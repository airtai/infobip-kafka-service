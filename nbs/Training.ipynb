{
 "cells": [
  {
   "cell_type": "code",
   "execution_count": null,
   "id": "267c5310",
   "metadata": {},
   "outputs": [],
   "source": [
    "# | default_exp training"
   ]
  },
  {
   "cell_type": "markdown",
   "id": "5974ed75",
   "metadata": {},
   "source": [
    "# Training\n",
    "> Fastkafka app for Training infobip stuff"
   ]
  },
  {
   "cell_type": "code",
   "execution_count": null,
   "id": "3332b53f",
   "metadata": {},
   "outputs": [
    {
     "name": "stdout",
     "output_type": "stream",
     "text": [
      "23-07-25 07:45:26.222 [INFO] matplotlib.font_manager: generated new fontManager\n"
     ]
    },
    {
     "name": "stderr",
     "output_type": "stream",
     "text": [
      "2023-07-25 07:45:26.817847: I tensorflow/core/platform/cpu_feature_guard.cc:193] This TensorFlow binary is optimized with oneAPI Deep Neural Network Library (oneDNN) to use the following CPU instructions in performance-critical operations:  AVX2 FMA\n",
      "To enable them in other operations, rebuild TensorFlow with the appropriate compiler flags.\n",
      "2023-07-25 07:45:26.914040: W tensorflow/stream_executor/platform/default/dso_loader.cc:64] Could not load dynamic library 'libcudart.so.11.0'; dlerror: libcudart.so.11.0: cannot open shared object file: No such file or directory\n",
      "2023-07-25 07:45:26.914057: I tensorflow/stream_executor/cuda/cudart_stub.cc:29] Ignore above cudart dlerror if you do not have a GPU set up on your machine.\n",
      "2023-07-25 07:45:26.930019: E tensorflow/stream_executor/cuda/cuda_blas.cc:2981] Unable to register cuBLAS factory: Attempting to register factory for plugin cuBLAS when one has already been registered\n",
      "2023-07-25 07:45:27.369163: W tensorflow/stream_executor/platform/default/dso_loader.cc:64] Could not load dynamic library 'libnvinfer.so.7'; dlerror: libnvinfer.so.7: cannot open shared object file: No such file or directory\n",
      "2023-07-25 07:45:27.369238: W tensorflow/stream_executor/platform/default/dso_loader.cc:64] Could not load dynamic library 'libnvinfer_plugin.so.7'; dlerror: libnvinfer_plugin.so.7: cannot open shared object file: No such file or directory\n",
      "2023-07-25 07:45:27.369244: W tensorflow/compiler/tf2tensorrt/utils/py_utils.cc:38] TF-TRT Warning: Cannot dlopen some TensorRT libraries. If you would like to use Nvidia GPU with TensorRT, please make sure the missing libraries mentioned above are installed properly.\n"
     ]
    },
    {
     "name": "stdout",
     "output_type": "stream",
     "text": [
      "23-07-25 07:45:28.076 [WARNING] tensorflow: Please fix your imports. Module tensorflow.python.training.tracking.data_structures has been moved to tensorflow.python.trackable.data_structures. The old module will be deleted in version 2.11.\n"
     ]
    }
   ],
   "source": [
    "# | export\n",
    "from os import environ\n",
    "from pathlib import Path\n",
    "\n",
    "from airt.infobip.kafka_training import create_app"
   ]
  },
  {
   "cell_type": "code",
   "execution_count": null,
   "id": "3d0fa680",
   "metadata": {},
   "outputs": [],
   "source": [
    "# | export\n",
    "root_path = Path(environ[\"ROOT_PATH\"])\n",
    "downloading_group_id = environ[\"DOWNLOADING_GROUP_ID\"]\n",
    "training_group_id = environ[\"TRAINING_GROUP_ID\"]"
   ]
  },
  {
   "cell_type": "code",
   "execution_count": null,
   "id": "b4395a7f",
   "metadata": {},
   "outputs": [],
   "source": [
    "# | export\n",
    "app = create_app(\n",
    "    root_path=root_path,\n",
    "    downloading_group_id=downloading_group_id,\n",
    "    training_group_id=training_group_id,\n",
    ")"
   ]
  },
  {
   "cell_type": "code",
   "execution_count": null,
   "id": "0bd632ac",
   "metadata": {},
   "outputs": [],
   "source": []
  }
 ],
 "metadata": {
  "kernelspec": {
   "display_name": "python3",
   "language": "python",
   "name": "python3"
  }
 },
 "nbformat": 4,
 "nbformat_minor": 5
}
