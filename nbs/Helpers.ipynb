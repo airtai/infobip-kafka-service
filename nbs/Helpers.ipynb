{
 "cells": [
  {
   "cell_type": "code",
   "execution_count": null,
   "id": "ee6062fb",
   "metadata": {},
   "outputs": [],
   "source": [
    "# | default_exp helpers"
   ]
  },
  {
   "cell_type": "markdown",
   "id": "5fad9ce7",
   "metadata": {},
   "source": [
    "# Helpers\n",
    "> Helper functions"
   ]
  },
  {
   "cell_type": "code",
   "execution_count": null,
   "id": "4e7c051f",
   "metadata": {},
   "outputs": [],
   "source": [
    "# | export\n",
    "from enum import Enum\n",
    "from os import environ\n",
    "from typing import Optional\n",
    "\n",
    "from aiokafka.helpers import create_ssl_context\n",
    "from pydantic import BaseModel, Field, NonNegativeInt"
   ]
  },
  {
   "cell_type": "code",
   "execution_count": null,
   "id": "a172f252",
   "metadata": {},
   "outputs": [],
   "source": [
    "# | export\n",
    "kafka_server_url = environ[\"KAFKA_HOSTNAME\"]\n",
    "kafka_server_port = environ[\"KAFKA_PORT\"]\n",
    "\n",
    "kafka_bootstrap_servers = (\n",
    "    f\":{kafka_server_port},\".join(kafka_server_url.split(\",\")) + f\":{kafka_server_port}\"\n",
    ")"
   ]
  },
  {
   "cell_type": "code",
   "execution_count": null,
   "id": "666d5236",
   "metadata": {},
   "outputs": [],
   "source": [
    "# | export\n",
    "aio_kafka_config = {\n",
    "    \"bootstrap_servers\": kafka_bootstrap_servers,\n",
    "    \"security_protocol\": \"SASL_SSL\",\n",
    "    \"sasl_mechanism\": environ[\"KAFKA_SASL_MECHANISM\"],\n",
    "    \"sasl_plain_username\": environ[\"KAFKA_API_KEY\"],\n",
    "    \"sasl_plain_password\": environ[\"KAFKA_API_SECRET\"],\n",
    "    \"ssl_context\": create_ssl_context(),\n",
    "}"
   ]
  },
  {
   "cell_type": "code",
   "execution_count": null,
   "id": "9045b3ee",
   "metadata": {},
   "outputs": [],
   "source": [
    "# | export\n",
    "\n",
    "\n",
    "class TaskType(str, Enum):\n",
    "    churn = \"churn\"\n",
    "    propensity_to_buy = \"propensity_to_buy\"\n",
    "\n",
    "\n",
    "class ModelTrainingRequest(BaseModel):\n",
    "    AccountId: NonNegativeInt = Field(\n",
    "        ..., example=202020, description=\"ID of an account\"\n",
    "    )\n",
    "    ApplicationId: Optional[str] = Field(\n",
    "        default=None,\n",
    "        example=\"TestApplicationId\",\n",
    "        description=\"Id of the application in case there is more than one for the AccountId\",\n",
    "    )\n",
    "    ModelId: str = Field(\n",
    "        ...,\n",
    "        example=\"ChurnModelForDrivers\",\n",
    "        description=\"User supplied ID of the model trained\",\n",
    "    )\n",
    "    task_type: TaskType = Field(\n",
    "        ..., description=\"Model type, only 'churn' is supported right now\"\n",
    "    )\n",
    "    total_no_of_records: NonNegativeInt = Field(\n",
    "        ...,\n",
    "        example=1_000_000,\n",
    "        description=\"approximate total number of records (rows) to be ingested\",\n",
    "    )\n",
    "\n",
    "\n",
    "class StartPrediction(BaseModel):\n",
    "    AccountId: NonNegativeInt = Field(\n",
    "        ..., example=202020, description=\"ID of an account\"\n",
    "    )\n",
    "    ApplicationId: Optional[str] = Field(\n",
    "        default=None,\n",
    "        example=\"TestApplicationId\",\n",
    "        description=\"Id of the application in case there is more than one for the AccountId\",\n",
    "    )\n",
    "    ModelId: str = Field(\n",
    "        ...,\n",
    "        example=\"ChurnModelForDrivers\",\n",
    "        description=\"User supplied ID of the model trained\",\n",
    "    )\n",
    "\n",
    "    task_type: TaskType = Field(\n",
    "        ...,\n",
    "        example=\"churn\",\n",
    "        description=\"Name of the model used (churn, propensity to buy)\",\n",
    "    )"
   ]
  },
  {
   "cell_type": "code",
   "execution_count": null,
   "id": "a25472f9",
   "metadata": {},
   "outputs": [],
   "source": []
  }
 ],
 "metadata": {
  "kernelspec": {
   "display_name": "python3",
   "language": "python",
   "name": "python3"
  }
 },
 "nbformat": 4,
 "nbformat_minor": 5
}
