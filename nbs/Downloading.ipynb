{
 "cells": [
  {
   "cell_type": "code",
   "execution_count": null,
   "id": "df326eb8",
   "metadata": {},
   "outputs": [],
   "source": [
    "# | default_exp downloading"
   ]
  },
  {
   "cell_type": "markdown",
   "id": "f31a5812",
   "metadata": {},
   "source": [
    "# Downloading\n",
    "> Fastkafka app for Downloading infobip stuff"
   ]
  },
  {
   "cell_type": "code",
   "execution_count": null,
   "id": "cd10786c",
   "metadata": {},
   "outputs": [],
   "source": [
    "# | export\n",
    "from os import environ\n",
    "from pathlib import Path\n",
    "\n",
    "from airt.infobip.kafka_downloading import create_app"
   ]
  },
  {
   "cell_type": "code",
   "execution_count": null,
   "id": "e20cdf08",
   "metadata": {},
   "outputs": [],
   "source": [
    "# | export\n",
    "root_path = Path(environ[\"ROOT_PATH\"])\n",
    "downloading_group_id = environ[\"DOWNLOADING_GROUP_ID\"]\n",
    "# training_group_id = environ[\"TRAINING_GROUP_ID\"]"
   ]
  },
  {
   "cell_type": "code",
   "execution_count": null,
   "id": "b821286e",
   "metadata": {},
   "outputs": [],
   "source": [
    "# | export\n",
    "app = create_app(\n",
    "    root_path=root_path / downloading_group_id, group_id=downloading_group_id\n",
    ")\n"
   ]
  },
  {
   "cell_type": "code",
   "execution_count": null,
   "id": "602ef6b0",
   "metadata": {},
   "outputs": [],
   "source": []
  }
 ],
 "metadata": {
  "kernelspec": {
   "display_name": "python3",
   "language": "python",
   "name": "python3"
  }
 },
 "nbformat": 4,
 "nbformat_minor": 5
}
