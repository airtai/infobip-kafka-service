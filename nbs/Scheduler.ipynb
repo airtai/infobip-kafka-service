{
 "cells": [
  {
   "cell_type": "code",
   "execution_count": null,
   "id": "fe127d44",
   "metadata": {},
   "outputs": [],
   "source": [
    "# | default_exp scheduler"
   ]
  },
  {
   "cell_type": "markdown",
   "id": "9c42b9da",
   "metadata": {},
   "source": [
    "# Scheduler\n",
    "> Scheduler app using rocketry to trigger weekly training and daily prediction"
   ]
  },
  {
   "cell_type": "code",
   "execution_count": null,
   "id": "1b4c6b3d",
   "metadata": {},
   "outputs": [],
   "source": [
    "# | export\n",
    "import asyncio\n",
    "from os import environ\n",
    "from pathlib import Path\n",
    "\n",
    "\n",
    "from aiokafka import AIOKafkaProducer\n",
    "from rocketry import Rocketry\n",
    "from rocketry.conds import daily, weekly\n",
    "from rocketry.log import TaskRunRecord\n",
    "from redbird.logging import RepoHandler\n",
    "from redbird.repos import CSVFileRepo\n",
    "\n",
    "from infobip_kafka_service.clickhouse_helpers import get_unique_account_ids_model_ids\n",
    "from infobip_kafka_service.helpers import aio_kafka_config, ModelTrainingRequest, StartPrediction\n",
    "from infobip_kafka_service.logger import get_logger"
   ]
  },
  {
   "cell_type": "code",
   "execution_count": null,
   "id": "f678cd7b",
   "metadata": {},
   "outputs": [],
   "source": [
    "# | export\n",
    "root_path = Path(environ[\"ROOT_PATH\"])\n",
    "log_file = root_path / \"rocketry_logs.csv\"\n",
    "\n",
    "csv_file_repo = CSVFileRepo(filename=log_file, model=TaskRunRecord)\n",
    "app = Rocketry(execution=\"async\", logger_repo=csv_file_repo)"
   ]
  },
  {
   "cell_type": "code",
   "execution_count": null,
   "id": "6bbcbdc0",
   "metadata": {},
   "outputs": [],
   "source": [
    "# | export\n",
    "logger = get_logger(__name__)\n",
    "handler = RepoHandler(repo=csv_file_repo)"
   ]
  },
  {
   "cell_type": "code",
   "execution_count": null,
   "id": "7b83aa4c",
   "metadata": {},
   "outputs": [],
   "source": [
    "# | export\n",
    "\n",
    "@app.task(weekly) # type: ignore\n",
    "async def start_weekly_training() -> None:\n",
    "    rows = get_unique_account_ids_model_ids()\n",
    "    producer = AIOKafkaProducer(**aio_kafka_config)\n",
    "    await producer.start()\n",
    "    try:\n",
    "        for row in rows:\n",
    "            model_training_req = ModelTrainingRequest(\n",
    "                AccountId=row[\"AccountId\"],\n",
    "                ApplicationId=row[\"ApplicationId\"], # type: ignore\n",
    "                ModelId=row[\"ModelId\"], # type: ignore\n",
    "                task_type=\"churn\", # type: ignore\n",
    "                total_no_of_records=0,\n",
    "            )\n",
    "            msg = (model_training_req.json()).encode(\"utf-8\")\n",
    "            logger.info(f\"Sending weekly retraining for {msg=}\")\n",
    "            await producer.send_and_wait(\"infobip_start_training_data\", msg)\n",
    "    finally:\n",
    "        await producer.stop()"
   ]
  },
  {
   "cell_type": "code",
   "execution_count": null,
   "id": "a56502d0",
   "metadata": {},
   "outputs": [],
   "source": [
    "# | export\n",
    "\n",
    "@app.task(daily) # type: ignore\n",
    "async def start_daily_prediction() -> None:\n",
    "    rows = get_unique_account_ids_model_ids()\n",
    "    producer = AIOKafkaProducer(**aio_kafka_config)\n",
    "    await producer.start()\n",
    "    try:\n",
    "        for row in rows:\n",
    "            start_prediction = StartPrediction(\n",
    "                AccountId=row[\"AccountId\"],\n",
    "                ApplicationId=row[\"ApplicationId\"], # type: ignore\n",
    "                ModelId=row[\"ModelId\"], # type: ignore\n",
    "                task_type=\"churn\", # type: ignore\n",
    "            )\n",
    "            msg = (start_prediction.json()).encode(\"utf-8\")\n",
    "            logger.info(f\"Sending daily retraining for {msg=}\")\n",
    "            await producer.send_and_wait(\"infobip_start_prediction\", msg)\n",
    "    finally:\n",
    "        await producer.stop()"
   ]
  },
  {
   "cell_type": "code",
   "execution_count": null,
   "id": "b8dc81fb",
   "metadata": {},
   "outputs": [],
   "source": [
    "# | export\n",
    "\n",
    "async def main() -> None:\n",
    "    \"Launch Rocketry app\"\n",
    "    rocketry_task = asyncio.create_task(app.serve())\n",
    "    await rocketry_task\n",
    "\n",
    "\n",
    "if __name__ == \"__main__\":\n",
    "    asyncio.run(main())\n"
   ]
  },
  {
   "cell_type": "code",
   "execution_count": null,
   "id": "7c36cfde",
   "metadata": {},
   "outputs": [],
   "source": []
  }
 ],
 "metadata": {
  "kernelspec": {
   "display_name": "python3",
   "language": "python",
   "name": "python3"
  }
 },
 "nbformat": 4,
 "nbformat_minor": 5
}
