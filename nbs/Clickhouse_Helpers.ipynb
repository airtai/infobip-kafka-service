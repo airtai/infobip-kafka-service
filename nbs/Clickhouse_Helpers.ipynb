{
 "cells": [
  {
   "cell_type": "code",
   "execution_count": null,
   "id": "e7def750",
   "metadata": {},
   "outputs": [],
   "source": [
    "# | default_exp clickhouse_helpers"
   ]
  },
  {
   "cell_type": "markdown",
   "id": "56fa5635",
   "metadata": {},
   "source": [
    "# Clickhouse Helpers\n",
    "> Clickhouse helper functions"
   ]
  },
  {
   "cell_type": "code",
   "execution_count": null,
   "id": "2b0d52e2",
   "metadata": {},
   "outputs": [],
   "source": [
    "# | export\n",
    "from contextlib import contextmanager\n",
    "from os import environ\n",
    "from urllib.parse import quote_plus as urlquote\n",
    "from typing import List, Dict, Union\n",
    "\n",
    "import pandas as pd\n",
    "from sqlalchemy import create_engine\n",
    "from sqlalchemy.engine import Connection\n",
    "\n",
    "from infobip_kafka_service.logger import get_logger"
   ]
  },
  {
   "cell_type": "code",
   "execution_count": null,
   "id": "47803ed4",
   "metadata": {},
   "outputs": [],
   "source": [
    "# | export\n",
    "logger = get_logger(__name__)"
   ]
  },
  {
   "cell_type": "code",
   "execution_count": null,
   "id": "f9772326",
   "metadata": {},
   "outputs": [],
   "source": [
    "# | export\n",
    "def get_clickhouse_params_from_env_vars() -> Dict[str, Union[str, int]]:\n",
    "    return dict(\n",
    "        username=environ[\"KAFKA_CH_USERNAME\"],\n",
    "        password=environ[\"KAFKA_CH_PASSWORD\"],\n",
    "        host=environ[\"KAFKA_CH_HOST\"],\n",
    "        database=environ[\"KAFKA_CH_DATABASE\"],\n",
    "        port=int(environ[\"KAFKA_CH_PORT\"]),\n",
    "        protocol=environ[\"KAFKA_CH_PROTOCOL\"],\n",
    "        table=environ[\"KAFKA_CH_TABLE\"],\n",
    "    )"
   ]
  },
  {
   "cell_type": "code",
   "execution_count": null,
   "id": "af9650a5",
   "metadata": {},
   "outputs": [],
   "source": [
    "# | export\n",
    "def _create_clickhouse_connection_string(\n",
    "    username: str,\n",
    "    password: str,\n",
    "    host: str,\n",
    "    port: int,\n",
    "    database: str,\n",
    "    protocol: str,\n",
    ") -> str:\n",
    "    # Double quoting is needed to fix a problem with special character '?' in password\n",
    "    quoted_password = urlquote(urlquote(password))\n",
    "    conn_str = (\n",
    "        f\"clickhouse+{protocol}://{username}:{quoted_password}@{host}:{port}/{database}\"\n",
    "    )\n",
    "\n",
    "    return conn_str"
   ]
  },
  {
   "cell_type": "code",
   "execution_count": null,
   "id": "5c16b7df",
   "metadata": {},
   "outputs": [],
   "source": [
    "# | export\n",
    "@contextmanager  # type: ignore\n",
    "def get_clickhouse_connection(  # type: ignore\n",
    "    *,\n",
    "    username: str,\n",
    "    password: str,\n",
    "    host: str,\n",
    "    port: int,\n",
    "    database: str,\n",
    "    table: str,\n",
    "    protocol: str,\n",
    "    #     verbose: bool = False,\n",
    ") -> Connection:\n",
    "    if protocol != \"native\":\n",
    "        raise ValueError()\n",
    "    conn_str = _create_clickhouse_connection_string(\n",
    "        username=username,\n",
    "        password=password,\n",
    "        host=host,\n",
    "        port=port,\n",
    "        database=database,\n",
    "        protocol=protocol,\n",
    "    )\n",
    "\n",
    "    db_engine = create_engine(conn_str)\n",
    "    # args, kwargs = db_engine.dialect.create_connect_args(db_engine.url)\n",
    "    with db_engine.connect() as connection:\n",
    "        logger.info(f\"Connected to database using {db_engine}\")\n",
    "        yield connection"
   ]
  },
  {
   "cell_type": "code",
   "execution_count": null,
   "id": "cea0e190",
   "metadata": {},
   "outputs": [],
   "source": [
    "# | export\n",
    "def _get_unique_account_ids_model_ids(\n",
    "    host: str,\n",
    "    port: int,\n",
    "    username: str,\n",
    "    password: str,\n",
    "    database: str,\n",
    "    protocol: str,\n",
    "    table: str,\n",
    ") -> List[Dict[str, int]]:\n",
    "    with get_clickhouse_connection(  # type: ignore\n",
    "        username=username,\n",
    "        password=password,\n",
    "        host=host,\n",
    "        port=port,\n",
    "        database=database,\n",
    "        table=table,\n",
    "        protocol=protocol,\n",
    "    ) as connection:\n",
    "        query = (\n",
    "            f\"select DISTINCT on (AccountId, ModelId, ApplicationId) AccountId, ModelId, ApplicationId from {table}\"\n",
    "        )\n",
    "        df = pd.read_sql(sql=query, con=connection)\n",
    "    return df.to_dict(\"records\")\n",
    "\n",
    "\n",
    "def get_unique_account_ids_model_ids() -> List[Dict[str, int]]:\n",
    "    db_params = get_clickhouse_params_from_env_vars()\n",
    "    # Replace infobip_data with infobip_start_training_data for table param\n",
    "    db_params[\"table\"] = \"infobip_start_training_data\"\n",
    "    return _get_unique_account_ids_model_ids(**db_params)\n"
   ]
  },
  {
   "cell_type": "code",
   "execution_count": null,
   "id": "40b0e5a2",
   "metadata": {},
   "outputs": [],
   "source": []
  }
 ],
 "metadata": {
  "kernelspec": {
   "display_name": "python3",
   "language": "python",
   "name": "python3"
  }
 },
 "nbformat": 4,
 "nbformat_minor": 5
}
